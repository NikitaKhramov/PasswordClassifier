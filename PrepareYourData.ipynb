{
 "cells": [
  {
   "cell_type": "code",
   "execution_count": null,
   "metadata": {},
   "outputs": [],
   "source": [
    "import pandas as pd\n",
    "import numpy as np\n",
    "\n",
    "path = \"path/to/your/data\"\n",
    "DF = pd.read_csv(path, error_bad_lines=False)\n",
    "\n",
    "DF = DF.dropna()\n",
    "DF = DF[DF['password'].str.contains(\"gmail.com|@gmail|outlook.com|mail.com|email.com|hot-mail.com|hotmail.com\") == False]\n",
    "DF['len_of_pswd']  = DF['password'].str.len()\n",
    "\n",
    "buff_is_digit = []\n",
    "buff_is_char = []\n",
    "buff_is_upper = []\n",
    "special_characters = '!@#$%^&.*()-+?_=,<>\\|/\"'\n",
    "buff_is_special_characters = []\n",
    "\n",
    "for index, row in DF.iterrows():\n",
    "    buff_is_digit.append(any(i.isdigit() for i in row[\"password\"]))\n",
    "    buff_is_char.append(any(i.isalpha() for i in row[\"password\"]))\n",
    "    buff_is_upper.append(any(i.isupper() for i in row[\"password\"]))\n",
    "    buff_is_special_characters.append(any(i in special_characters  for i in row[\"password\"]))\n",
    "\n",
    "DF[\"is_digit\"] = buff_is_digit\n",
    "DF[\"is_digit\"] = DF[\"is_digit\"].astype(int)\n",
    "DF[\"is_char\"] = buff_is_char\n",
    "DF[\"is_char\"] = DF[\"is_char\"].astype(int)\n",
    "DF[\"is_upper\"] = buff_is_upper\n",
    "DF[\"is_upper\"] = DF[\"is_upper\"].astype(int)\n",
    "DF[\"is_special_characters\"] = buff_is_special_characters\n",
    "DF[\"is_special_characters\"] = DF[\"is_special_characters\"].astype(int)\n",
    "\n",
    "last_column = DF.pop('strength')\n",
    "DF.insert(6, 'strength', last_column)\n",
    "\n",
    "DF.to_csv('DataForTest.csv', index=False)"
   ]
  }
 ],
 "metadata": {
  "kernelspec": {
   "display_name": "Python 3",
   "language": "python",
   "name": "python3"
  },
  "language_info": {
   "codemirror_mode": {
    "name": "ipython",
    "version": 3
   },
   "file_extension": ".py",
   "mimetype": "text/x-python",
   "name": "python",
   "nbconvert_exporter": "python",
   "pygments_lexer": "ipython3",
   "version": "3.7.3"
  }
 },
 "nbformat": 4,
 "nbformat_minor": 2
}
